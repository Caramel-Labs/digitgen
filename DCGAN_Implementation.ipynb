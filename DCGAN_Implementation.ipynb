{
  "nbformat": 4,
  "nbformat_minor": 0,
  "metadata": {
    "colab": {
      "provenance": [],
      "gpuType": "T4"
    },
    "kernelspec": {
      "name": "python3",
      "display_name": "Python 3"
    },
    "language_info": {
      "name": "python"
    },
    "accelerator": "GPU"
  },
  "cells": [
    {
      "cell_type": "code",
      "source": [
        "# General imports\n",
        "import os\n",
        "import PIL\n",
        "import time\n",
        "import glob\n",
        "import imageio\n",
        "import numpy as np\n",
        "import pandas as pd\n",
        "from IPython import display\n",
        "import matplotlib.pyplot as plt\n",
        "\n",
        "# Tensorflow imports\n",
        "import tensorflow as tf\n",
        "from tensorflow import keras\n",
        "from tensorflow.keras import layers\n",
        "from keras.datasets.mnist import load_data"
      ],
      "metadata": {
        "id": "oZryc1B2PPbs"
      },
      "execution_count": null,
      "outputs": []
    },
    {
      "cell_type": "code",
      "source": [
        "# Load MNIST dataset\n",
        "(train_images, train_labels), (test_images, test_labels) = load_data()"
      ],
      "metadata": {
        "id": "rYkm_P28SXwD"
      },
      "execution_count": null,
      "outputs": []
    },
    {
      "cell_type": "code",
      "source": [
        "train_images.shape"
      ],
      "metadata": {
        "colab": {
          "base_uri": "https://localhost:8080/"
        },
        "id": "fUVH6PMpTnFc",
        "outputId": "04549de6-4182-4b5c-a1ea-8ada6a7be74d"
      },
      "execution_count": null,
      "outputs": [
        {
          "output_type": "execute_result",
          "data": {
            "text/plain": [
              "(60000, 28, 28)"
            ]
          },
          "metadata": {},
          "execution_count": 125
        }
      ]
    },
    {
      "cell_type": "code",
      "source": [
        "train_labels.shape"
      ],
      "metadata": {
        "colab": {
          "base_uri": "https://localhost:8080/"
        },
        "id": "_8jcvXiPTrpN",
        "outputId": "e7b60269-ee68-445f-df1c-ed7a907309dd"
      },
      "execution_count": null,
      "outputs": [
        {
          "output_type": "execute_result",
          "data": {
            "text/plain": [
              "(60000,)"
            ]
          },
          "metadata": {},
          "execution_count": 126
        }
      ]
    },
    {
      "cell_type": "code",
      "source": [
        "test_images.shape"
      ],
      "metadata": {
        "colab": {
          "base_uri": "https://localhost:8080/"
        },
        "id": "mILNnOlNTwXl",
        "outputId": "e7fb0f2f-3ba4-45cf-8302-7f5396e2e4d2"
      },
      "execution_count": null,
      "outputs": [
        {
          "output_type": "execute_result",
          "data": {
            "text/plain": [
              "(10000, 28, 28)"
            ]
          },
          "metadata": {},
          "execution_count": 127
        }
      ]
    },
    {
      "cell_type": "code",
      "source": [
        "test_labels.shape"
      ],
      "metadata": {
        "colab": {
          "base_uri": "https://localhost:8080/"
        },
        "id": "VQGbZsGPTx-N",
        "outputId": "040af082-aa00-45ee-d9ac-78fb3622b551"
      },
      "execution_count": null,
      "outputs": [
        {
          "output_type": "execute_result",
          "data": {
            "text/plain": [
              "(10000,)"
            ]
          },
          "metadata": {},
          "execution_count": 128
        }
      ]
    },
    {
      "cell_type": "code",
      "source": [
        "train_images = train_images.reshape(train_images.shape[0], 28, 28, 1).astype('float32')\n",
        "train_images = (train_images - 127.5) / 127.5  # Normalize the images to [-1, 1]"
      ],
      "metadata": {
        "id": "prOR0XkLpoah"
      },
      "execution_count": null,
      "outputs": []
    },
    {
      "cell_type": "code",
      "source": [
        "plt.imshow(train_images[0], cmap=\"gray\")"
      ],
      "metadata": {
        "colab": {
          "base_uri": "https://localhost:8080/",
          "height": 447
        },
        "id": "4IilVwaNpwDH",
        "outputId": "26517115-a390-480a-a1d4-e450f21d655a"
      },
      "execution_count": null,
      "outputs": [
        {
          "output_type": "execute_result",
          "data": {
            "text/plain": [
              "<matplotlib.image.AxesImage at 0x7ee71097ca10>"
            ]
          },
          "metadata": {},
          "execution_count": 130
        },
        {
          "output_type": "display_data",
          "data": {
            "text/plain": [
              "<Figure size 640x480 with 1 Axes>"
            ],
            "image/png": "[encoded data removed]"
          },
          "metadata": {}
        }
      ]
    },
    {
      "cell_type": "code",
      "source": [
        "BUFFER_SIZE = 60000\n",
        "BATCH_SIZE = 256"
      ],
      "metadata": {
        "id": "t1axdEf3p08i"
      },
      "execution_count": null,
      "outputs": []
    },
    {
      "cell_type": "code",
      "source": [
        "# Batch and shuffle the data\n",
        "train_dataset = tf.data.Dataset.from_tensor_slices(train_images).shuffle(BUFFER_SIZE).batch(BATCH_SIZE)"
      ],
      "metadata": {
        "id": "CPljqKV4p3dA"
      },
      "execution_count": null,
      "outputs": []
    },
    {
      "cell_type": "code",
      "source": [
        "generator = keras.Sequential([\n",
        "    # Start with a dense layer and reshape into a 7x7 feature map with 256 channels.\n",
        "    layers.Dense(7 * 7 * 256, input_dim=200),\n",
        "    layers.Reshape((7, 7, 256)),\n",
        "    layers.BatchNormalization(),\n",
        "    layers.ReLU(),\n",
        "\n",
        "    # Upsample to 14x14 using a transposed convolution.\n",
        "    layers.Conv2DTranspose(128, kernel_size=5, strides=1, padding='same'),\n",
        "    layers.BatchNormalization(),\n",
        "    layers.ReLU(),\n",
        "\n",
        "    layers.Conv2DTranspose(64, kernel_size=5, strides=2, padding='same'),\n",
        "    layers.BatchNormalization(),\n",
        "    layers.ReLU(),\n",
        "\n",
        "    # Upsample to 28x28. Output a single channel with tanh activation.\n",
        "    layers.Conv2DTranspose(1, kernel_size=5, strides=2, padding='same', activation='tanh')\n",
        "])\n"
      ],
      "metadata": {
        "id": "0hwkJS18T_Z7"
      },
      "execution_count": null,
      "outputs": []
    },
    {
      "cell_type": "code",
      "source": [
        "discriminator = tf.keras.Sequential([\n",
        "    # Input layer takes MNIST images (28x28x1)\n",
        "    layers.Conv2D(64, kernel_size=5, strides=2, padding='same', input_shape=(28, 28, 1)),\n",
        "    layers.LeakyReLU(alpha=0.2),\n",
        "    layers.Dropout(0.3),\n",
        "\n",
        "    layers.Conv2D(128, kernel_size=5, strides=2, padding='same'),\n",
        "    layers.LeakyReLU(alpha=0.2),\n",
        "    layers.Dropout(0.3),\n",
        "\n",
        "    layers.Flatten(),\n",
        "    layers.Dense(1, activation='sigmoid')  # Sigmoid for binary classification\n",
        "])\n"
      ],
      "metadata": {
        "id": "osSXUDPvUCBG"
      },
      "execution_count": null,
      "outputs": []
    },
    {
      "cell_type": "code",
      "source": [
        "# Base loss function for DCGAN\n",
        "bce_loss = keras.losses.BinaryCrossentropy()"
      ],
      "metadata": {
        "id": "cyuOZ21HXkYu"
      },
      "execution_count": null,
      "outputs": []
    },
    {
      "cell_type": "code",
      "source": [
        "def compute_discriminator_loss(disc_pred_for_real_img, disc_pred_for_fake_img):\n",
        "  # Calculate loss between discriminator's prediction for real image and ground truth (1)\n",
        "  real_loss = bce_loss(\n",
        "      tf.ones_like(disc_pred_for_real_img),\n",
        "      disc_pred_for_real_img,\n",
        "  )\n",
        "\n",
        "  # Calculate loss between discriminator's prediction for generated image and ground truth (0)\n",
        "  fake_loss = bce_loss(\n",
        "      tf.zeros_like(disc_pred_for_fake_img),\n",
        "      disc_pred_for_fake_img,\n",
        "  )\n",
        "\n",
        "  return real_loss + fake_loss"
      ],
      "metadata": {
        "id": "w7J2T-Pndxx1"
      },
      "execution_count": null,
      "outputs": []
    },
    {
      "cell_type": "code",
      "source": [
        "def compute_generator_loss(gen_output_for_fake_img):\n",
        "  # Calculate loss between generator's output for generated image and ground truth (1)\n",
        "  gen_loss = bce_loss(\n",
        "      tf.ones_like(gen_output_for_fake_img),\n",
        "      gen_output_for_fake_img,\n",
        "  )\n",
        "  return gen_loss\n"
      ],
      "metadata": {
        "id": "V8bvmFlKgX-6"
      },
      "execution_count": null,
      "outputs": []
    },
    {
      "cell_type": "code",
      "source": [
        "generator_optimizer = tf.keras.optimizers.Adam(1e-4)\n",
        "discriminator_optimizer = tf.keras.optimizers.Adam(1e-4)"
      ],
      "metadata": {
        "id": "3RDs7VBppeyn"
      },
      "execution_count": null,
      "outputs": []
    },
    {
      "cell_type": "code",
      "source": [
        "checkpoint_dir = './training_checkpoints'\n",
        "checkpoint_prefix = os.path.join(checkpoint_dir, \"ckpt\")\n",
        "checkpoint = tf.train.Checkpoint(generator_optimizer=generator_optimizer,\n",
        "                                 discriminator_optimizer=discriminator_optimizer,\n",
        "                                 generator=generator,\n",
        "                                 discriminator=discriminator)"
      ],
      "metadata": {
        "id": "3IE_KMnhpbzb"
      },
      "execution_count": null,
      "outputs": []
    },
    {
      "cell_type": "code",
      "source": [
        "EPOCHS = 100\n",
        "noise_dim = 200\n",
        "num_examples_to_generate = 8\n",
        "\n",
        "# You will reuse this seed overtime (so it's easier)\n",
        "# to visualize progress in the animated GIF)\n",
        "seed = tf.random.normal([num_examples_to_generate, noise_dim])"
      ],
      "metadata": {
        "id": "b2igLQEApGMi"
      },
      "execution_count": null,
      "outputs": []
    },
    {
      "cell_type": "code",
      "source": [
        "# Notice the use of `tf.function`\n",
        "# This annotation causes the function to be \"compiled\".\n",
        "@tf.function\n",
        "def train_step(images):\n",
        "    noise = tf.random.normal([BATCH_SIZE, noise_dim])\n",
        "\n",
        "    with tf.GradientTape() as gen_tape, tf.GradientTape() as disc_tape:\n",
        "      generated_images = generator(noise, training=True)\n",
        "\n",
        "      real_output = discriminator(images, training=True)\n",
        "      fake_output = discriminator(generated_images, training=True)\n",
        "\n",
        "      gen_loss = compute_generator_loss(fake_output)\n",
        "      disc_loss = compute_discriminator_loss(real_output, fake_output)\n",
        "\n",
        "    gradients_of_generator = gen_tape.gradient(gen_loss, generator.trainable_variables)\n",
        "    gradients_of_discriminator = disc_tape.gradient(disc_loss, discriminator.trainable_variables)\n",
        "\n",
        "    generator_optimizer.apply_gradients(zip(gradients_of_generator, generator.trainable_variables))\n",
        "    discriminator_optimizer.apply_gradients(zip(gradients_of_discriminator, discriminator.trainable_variables))"
      ],
      "metadata": {
        "id": "GJ4cnLDWhhWI"
      },
      "execution_count": null,
      "outputs": []
    },
    {
      "cell_type": "code",
      "source": [
        "def train(dataset, epochs):\n",
        "  for epoch in range(epochs):\n",
        "    start = time.time()\n",
        "\n",
        "    for image_batch in dataset:\n",
        "      train_step(image_batch)\n",
        "\n",
        "    # Produce images for the GIF as you go\n",
        "    display.clear_output(wait=True)\n",
        "    generate_and_save_images(generator,\n",
        "                             epoch + 1,\n",
        "                             seed)\n",
        "\n",
        "    # Save the model every 15 epochs\n",
        "    if (epoch + 1) % 15 == 0:\n",
        "      checkpoint.save(file_prefix = checkpoint_prefix)\n",
        "\n",
        "    print ('Time for epoch {} is {} sec'.format(epoch + 1, time.time()-start))\n",
        "\n",
        "  # Generate after the final epoch\n",
        "  # display.clear_output(wait=True)\n",
        "  generate_and_save_images(generator,\n",
        "                           epochs,\n",
        "                           seed)"
      ],
      "metadata": {
        "id": "m_Lvqa4bpCjX"
      },
      "execution_count": null,
      "outputs": []
    },
    {
      "cell_type": "code",
      "source": [
        "def generate_and_save_images(model, epoch, test_input):\n",
        "  # Notice `training` is set to False.\n",
        "  # This is so all layers run in inference mode (batchnorm).\n",
        "  predictions = model(test_input, training=False)\n",
        "\n",
        "  fig = plt.figure(figsize=(4, 4))\n",
        "\n",
        "  for i in range(predictions.shape[0]):\n",
        "      plt.subplot(4, 4, i+1)\n",
        "      plt.imshow(predictions[i, :, :, 0] * 127.5 + 127.5, cmap='gray')\n",
        "      plt.axis('off')\n",
        "\n",
        "  plt.savefig('image_at_epoch_{:04d}.png'.format(epoch))\n",
        "  plt.show()"
      ],
      "metadata": {
        "id": "Kt1N02QuqI9P"
      },
      "execution_count": null,
      "outputs": []
    },
    {
      "cell_type": "code",
      "source": [
        "train(train_dataset, EPOCHS)"
      ],
      "metadata": {
        "colab": {
          "base_uri": "https://localhost:8080/",
          "height": 368
        },
        "id": "dzqvckJxqLdv",
        "outputId": "cb5755f0-7f5b-4f60-b9a1-595a84259893"
      },
      "execution_count": null,
      "outputs": [
        {
          "output_type": "display_data",
          "data": {
            "text/plain": [
              "<Figure size 400x400 with 8 Axes>"
            ],
            "image/png": "[encoded data removed]"
          },
          "metadata": {}
        },
        {
          "output_type": "stream",
          "name": "stdout",
          "text": [
            "Time for epoch 100 is 12.591822862625122 sec\n"
          ]
        },
        {
          "output_type": "display_data",
          "data": {
            "text/plain": [
              "<Figure size 400x400 with 8 Axes>"
            ],
            "image/png": "[encoded data removed]"
          },
          "metadata": {}
        }
      ]
    },
    {
      "cell_type": "code",
      "source": [
        "checkpoint.restore(tf.train.latest_checkpoint(checkpoint_dir))"
      ],
      "metadata": {
        "id": "a2YmYMP6qQbC",
        "colab": {
          "base_uri": "https://localhost:8080/"
        },
        "outputId": "396669e2-99ec-450b-8f9c-237a912f6aea"
      },
      "execution_count": null,
      "outputs": [
        {
          "output_type": "execute_result",
          "data": {
            "text/plain": [
              "<tensorflow.python.checkpoint.checkpoint.CheckpointLoadStatus at 0x7ee6e6505550>"
            ]
          },
          "metadata": {},
          "execution_count": 150
        }
      ]
    },
    {
      "cell_type": "code",
      "source": [
        "#Generate Random Numbers from the trained model\n",
        "\n",
        "noise_dim = 200\n",
        "\n",
        "# Generate random noise\n",
        "num_images = 5 # Number of images to generate\n",
        "random_noise = tf.random.normal([num_images, noise_dim])\n",
        "\n",
        "# Generate images using the trained generator\n",
        "generated_images = generator(random_noise, training=False)\n",
        "\n",
        "# Plot the generated images\n",
        "fig, axes = plt.subplots(1, num_images, figsize=(10, 10))\n",
        "for i in range(num_images):\n",
        "    axes[i].imshow(generated_images[i, :, :, 0], cmap='gray')  # Assuming single-channel grayscale images\n",
        "    axes[i].axis('off')\n",
        "\n",
        "plt.show()"
      ],
      "metadata": {
        "colab": {
          "base_uri": "https://localhost:8080/",
          "height": 170
        },
        "id": "z4DKbvvjYTTR",
        "outputId": "c6fa4f9d-fd87-444c-ae87-df1dd6653983"
      },
      "execution_count": null,
      "outputs": [
        {
          "output_type": "display_data",
          "data": {
            "text/plain": [
              "<Figure size 1000x1000 with 5 Axes>"
            ],
            "image/png": "[encoded data removed]"
          },
          "metadata": {}
        }
      ]
    }
  ]
}